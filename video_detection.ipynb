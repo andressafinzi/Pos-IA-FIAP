!pip install roboflow

!pip install roboflow

from roboflow import Roboflow

rf = Roboflow(api_key="4vpHK4Znm1hWTBL40CtU")
project = rf.workspace("final-project-kaixy").project("images-ldngd")
version = project.version(1)
dataset = version.download("yolov8-obb")

!pip install ultralytics -q

from ultralytics import YOLO
import os
import random
import shutil
from sklearn.model_selection import train_test_split

from ultralytics import YOLO

# Carregar modelo pré-treinado
model = YOLO("yolov8n.pt")  # Você pode escolher outra versão como yolov8s.pt, yolov8m.pt, etc.

# Treinar o modelo
model.train(data="/content/images-1/data.yaml", epochs=50, imgsz=640, batch=32)

from google.colab import drive
drive.mount('/content/drive')


results = model('/content/drive/MyDrive/projetofinal/video.mp4', stream=True)  # Substitua pelo caminho do vídeoi

import cv2
import smtplib
import ssl
from email.mime.multipart import MIMEMultipart
from email.mime.text import MIMEText
from ultralytics import YOLO


# Configurar credenciais de e-mail
EMAIL_SENDER = "andressafinzi@gmail.com"
EMAIL_PASSWORD = "gslc rlku oxft ytxj"  # Gere uma senha de app no Gmail
EMAIL_RECEIVER = "andressafinzi@gmail.com"


def send_email():
   """ Envia um e-mail caso uma objeto cortante seja detectado. """
   subject = "⚠️ Alerta: Objeto Perigoso Detectado!"
   body = f"Um objeto cortante foi detectado no vídeo. Verifique imediatamente!"


   msg = MIMEMultipart()
   msg["From"] = EMAIL_SENDER
   msg["To"] = EMAIL_RECEIVER
   msg["Subject"] = subject
   msg.attach(MIMEText(body, "plain"))


   try:
       context = ssl.create_default_context()
       with smtplib.SMTP_SSL("smtp.gmail.com", 465, context=context) as server:
           server.login(EMAIL_SENDER, EMAIL_PASSWORD)
           server.sendmail(EMAIL_SENDER, EMAIL_RECEIVER, msg.as_string())
       print("E-mail enviado com sucesso!")
   except Exception as e:
       print(f"Erro ao enviar e-mail: {e}")


# Caminho para o vídeo de entrada
input_video_path = '/content/drive/MyDrive/projetofinal/video.mp4'
output_video_path = '/content/drive/MyDrive/projetofinal/videof.mp4'




# Abrir o vídeo de entrada
cap = cv2.VideoCapture(input_video_path)


# Obter as propriedades do vídeo de entrada (tamanho do frame e FPS)
frame_width = int(cap.get(cv2.CAP_PROP_FRAME_WIDTH))
frame_height = int(cap.get(cv2.CAP_PROP_FRAME_HEIGHT))
fps = int(cap.get(cv2.CAP_PROP_FPS))


# Definir o codec e criar o arquivo de saída
fourcc = cv2.VideoWriter_fourcc(*'mp4v')
out = cv2.VideoWriter(output_video_path, fourcc, fps, (frame_width, frame_height))


sharp_detected = False


# Processar cada frame
while cap.isOpened():
   ret, frame = cap.read()
   if not ret:
       break


   # Fazer a previsão de detecção de objetos para o frame
   results = model(frame)


   # results.xywh[0] contém as detecções para o primeiro frame
   for result in results[0].boxes:
       x, y, w, h = result.xywh[0].tolist()  # coordenadas do centro, largura e altura
       conf = result.conf.item()  # confiança
       cls = result.cls.item()  # classe
       label = f"{model.names[int(cls)]} {conf:.2f}"


       # Calcular as coordenadas do retângulo (x1, y1, x2, y2)
       x1 = int(x - w / 2)
       y1 = int(y - h / 2)
       x2 = int(x + w / 2)
       y2 = int(y + h / 2)


       # Desenhar o retângulo (caixa) no frame
       cv2.rectangle(frame, (x1, y1), (x2, y2), (0, 255, 0), 2)


       # Adicionar o texto (label da classe) na caixa
       cv2.putText(frame, label, (x1, y1 - 10), cv2.FONT_HERSHEY_SIMPLEX, 0.5, (255, 0, 0), 2)


       if not sharp_detected:
               send_email()
               sharp_detected = True


   # Escrever o frame no vídeo de saída
   out.write(frame)


# Liberar os recursos
cap.release()
out.release()


print(f"Vídeo processado e salvo em: {output_video_path}")
